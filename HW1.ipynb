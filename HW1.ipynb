{
 "cells": [
  {
   "cell_type": "code",
   "execution_count": 22,
   "id": "8f4b58bd",
   "metadata": {},
   "outputs": [],
   "source": [
    "import numpy as np"
   ]
  },
  {
   "cell_type": "markdown",
   "id": "35944945",
   "metadata": {},
   "source": [
    "Question 1:"
   ]
  },
  {
   "cell_type": "code",
   "execution_count": 23,
   "id": "ae1e9958",
   "metadata": {},
   "outputs": [
    {
     "data": {
      "text/plain": [
       "array([[ 1.  ,  1.  ,  1.  ,  1.  ],\n",
       "       [ 0.14,  0.2 ,  0.2 ,  0.1 ],\n",
       "       [ 0.45, -0.55,  0.  ,  0.  ],\n",
       "       [ 0.  ,  1.  ,  0.  ,  0.  ]])"
      ]
     },
     "execution_count": 23,
     "metadata": {},
     "output_type": "execute_result"
    }
   ],
   "source": [
    "import numpy as np\n",
    "\n",
    "A = np.zeros((4,4))\n",
    "A[0,:] = [1,1,1,1]\n",
    "A[1,:] = [.14,.2,.2,.1]\n",
    "A[2,:] = [.45,-.55,0,0]\n",
    "A[3,:] = [0,1,0,0]\n",
    "A"
   ]
  },
  {
   "cell_type": "code",
   "execution_count": 24,
   "id": "f05e61e1",
   "metadata": {},
   "outputs": [
    {
     "data": {
      "text/plain": [
       "array([250. ,  37.5,   0. ,  62.5])"
      ]
     },
     "execution_count": 24,
     "metadata": {},
     "output_type": "execute_result"
    }
   ],
   "source": [
    "b = np.array([250,37.5,0,62.5])\n",
    "b"
   ]
  },
  {
   "cell_type": "code",
   "execution_count": 25,
   "id": "7e58dbf0",
   "metadata": {},
   "outputs": [
    {
     "data": {
      "text/plain": [
       "array([76.38888889, 62.5       , 31.94444444, 79.16666667])"
      ]
     },
     "execution_count": 25,
     "metadata": {},
     "output_type": "execute_result"
    }
   ],
   "source": [
    "xyz = np.linalg.solve(A,b)\n",
    "xyz"
   ]
  },
  {
   "cell_type": "markdown",
   "id": "89565673",
   "metadata": {},
   "source": [
    "Question 2:"
   ]
  },
  {
   "cell_type": "code",
   "execution_count": 26,
   "id": "fadb57a6",
   "metadata": {},
   "outputs": [
    {
     "data": {
      "text/plain": [
       "array([[ 1., -1.,  0.,  0.,  0.],\n",
       "       [ 1.,  0., -1.,  0.,  0.],\n",
       "       [ 1.,  0.,  0., -1.,  0.],\n",
       "       [ 1.,  0.,  0.,  0., -1.],\n",
       "       [ 0.,  1., -1.,  0.,  0.],\n",
       "       [ 0.,  1.,  0., -1.,  0.],\n",
       "       [ 0.,  1.,  0.,  0., -1.],\n",
       "       [ 0.,  0.,  1., -1.,  0.],\n",
       "       [ 0.,  0.,  1.,  0., -1.],\n",
       "       [ 0.,  0.,  0.,  1., -1.]])"
      ]
     },
     "execution_count": 26,
     "metadata": {},
     "output_type": "execute_result"
    }
   ],
   "source": [
    "A = np.zeros((10,5))\n",
    "A[0,:] = [1,-1,0,0,0]\n",
    "A[1,:] = [1,0,-1,0,0]\n",
    "A[2,:] = [1,0,0,-1,0]\n",
    "A[3,:] = [1,0,0,0,-1]\n",
    "A[4,:] = [0,1,-1,0,0]\n",
    "A[5,:] = [0,1,0,-1,0]\n",
    "A[6,:] = [0,1,0,0,-1]\n",
    "A[7,:] = [0,0,1,-1,0]\n",
    "A[8,:] = [0,0,1,0,-1]\n",
    "A[9,:] = [0,0,0,1,-1]\n",
    "A"
   ]
  },
  {
   "cell_type": "code",
   "execution_count": 27,
   "id": "3df37ecb",
   "metadata": {},
   "outputs": [
    {
     "data": {
      "text/plain": [
       "array([-45,  -3, -31, -45,  18,   8,  20,   2, -27, -38])"
      ]
     },
     "execution_count": 27,
     "metadata": {},
     "output_type": "execute_result"
    }
   ],
   "source": [
    "b = np.array([-45,-3,-31,-45,18,8,20,2,-27,-38])\n",
    "b"
   ]
  },
  {
   "cell_type": "code",
   "execution_count": 28,
   "id": "ff6afcf0",
   "metadata": {},
   "outputs": [],
   "source": [
    "M = np.matmul(np.transpose(A),A)\n",
    "y = np.matmul(np.transpose(A),b)"
   ]
  },
  {
   "cell_type": "code",
   "execution_count": 29,
   "id": "69b1e718",
   "metadata": {},
   "outputs": [],
   "source": [
    "M[-1,:] = [1,1,1,1,1]\n",
    "y[-1] = 0"
   ]
  },
  {
   "cell_type": "code",
   "execution_count": 30,
   "id": "495657a0",
   "metadata": {},
   "outputs": [
    {
     "data": {
      "text/plain": [
       "array([-24.8,  18.2,  -8. ,  -3.4,  18. ])"
      ]
     },
     "execution_count": 30,
     "metadata": {},
     "output_type": "execute_result"
    }
   ],
   "source": [
    "a = np.linalg.solve(M,y)\n",
    "a"
   ]
  },
  {
   "cell_type": "code",
   "execution_count": 31,
   "id": "9a758c92",
   "metadata": {},
   "outputs": [
    {
     "data": {
      "text/plain": [
       "array([-124.,   91.,  -40.,  -17.,    0.])"
      ]
     },
     "execution_count": 31,
     "metadata": {},
     "output_type": "execute_result"
    }
   ],
   "source": [
    "y"
   ]
  },
  {
   "cell_type": "markdown",
   "id": "775dc692",
   "metadata": {},
   "source": [
    "Question 3:"
   ]
  },
  {
   "cell_type": "code",
   "execution_count": 6,
   "id": "262aa56e",
   "metadata": {},
   "outputs": [
    {
     "name": "stdout",
     "output_type": "stream",
     "text": [
      "Symmetric\n",
      "Symmetric\n",
      "Symmetric\n",
      "Symmetric\n",
      "Symmetric\n",
      "Symmetric\n",
      "Symmetric\n",
      "Symmetric\n",
      "Symmetric\n",
      "Symmetric\n",
      "Symmetric\n",
      "Symmetric\n",
      "Symmetric\n",
      "Symmetric\n",
      "Symmetric\n",
      "Symmetric\n",
      "Symmetric\n",
      "Symmetric\n",
      "Symmetric\n",
      "Symmetric\n",
      "Symmetric\n",
      "Symmetric\n",
      "Symmetric\n",
      "Symmetric\n",
      "Symmetric\n",
      "Symmetric\n",
      "Symmetric\n",
      "Symmetric\n",
      "Symmetric\n",
      "Symmetric\n",
      "Symmetric\n",
      "Symmetric\n",
      "Symmetric\n",
      "Symmetric\n",
      "Symmetric\n",
      "Symmetric\n",
      "Symmetric\n",
      "Symmetric\n",
      "Symmetric\n",
      "Symmetric\n",
      "Symmetric\n",
      "Symmetric\n",
      "Symmetric\n",
      "Symmetric\n",
      "Symmetric\n",
      "Symmetric\n",
      "Symmetric\n",
      "Symmetric\n",
      "Symmetric\n",
      "Symmetric\n",
      "Symmetric\n",
      "Symmetric\n",
      "Symmetric\n",
      "Symmetric\n",
      "Symmetric\n",
      "Symmetric\n",
      "Symmetric\n",
      "Symmetric\n",
      "Symmetric\n",
      "Symmetric\n",
      "Symmetric\n",
      "Symmetric\n",
      "Symmetric\n",
      "Symmetric\n",
      "Symmetric\n",
      "Symmetric\n",
      "Symmetric\n",
      "Symmetric\n",
      "Symmetric\n",
      "Symmetric\n",
      "Symmetric\n",
      "Symmetric\n",
      "Symmetric\n",
      "Symmetric\n",
      "Symmetric\n",
      "Symmetric\n",
      "Symmetric\n",
      "Symmetric\n",
      "Symmetric\n",
      "Symmetric\n",
      "Symmetric\n",
      "Symmetric\n",
      "Symmetric\n",
      "Symmetric\n",
      "Symmetric\n",
      "Symmetric\n",
      "Symmetric\n",
      "Symmetric\n",
      "Symmetric\n",
      "Symmetric\n",
      "Symmetric\n",
      "Symmetric\n",
      "Symmetric\n",
      "Symmetric\n",
      "Symmetric\n",
      "Symmetric\n",
      "Symmetric\n",
      "Symmetric\n",
      "Symmetric\n",
      "Symmetric\n",
      "Symmetric\n",
      "Symmetric\n",
      "Symmetric\n",
      "Symmetric\n",
      "Symmetric\n",
      "Symmetric\n",
      "Symmetric\n",
      "Symmetric\n",
      "Symmetric\n",
      "Symmetric\n",
      "Symmetric\n",
      "Symmetric\n",
      "Symmetric\n",
      "Symmetric\n",
      "Symmetric\n",
      "Symmetric\n",
      "Symmetric\n",
      "Symmetric\n",
      "Symmetric\n",
      "Symmetric\n",
      "Symmetric\n",
      "Symmetric\n",
      "Symmetric\n",
      "Symmetric\n",
      "Symmetric\n",
      "Symmetric\n",
      "Symmetric\n",
      "Symmetric\n",
      "Symmetric\n",
      "Symmetric\n",
      "Symmetric\n",
      "Symmetric\n",
      "Symmetric\n",
      "Symmetric\n",
      "Symmetric\n",
      "Symmetric\n",
      "Symmetric\n",
      "Symmetric\n",
      "Symmetric\n",
      "Symmetric\n",
      "Symmetric\n",
      "Symmetric\n",
      "Symmetric\n",
      "Symmetric\n",
      "Symmetric\n",
      "Symmetric\n",
      "Symmetric\n",
      "Symmetric\n",
      "Symmetric\n",
      "Symmetric\n",
      "Symmetric\n",
      "Symmetric\n",
      "Symmetric\n",
      "Symmetric\n",
      "Symmetric\n",
      "Symmetric\n",
      "Symmetric\n",
      "Symmetric\n",
      "Symmetric\n",
      "Symmetric\n",
      "Symmetric\n",
      "Symmetric\n",
      "Symmetric\n",
      "Symmetric\n",
      "Symmetric\n",
      "Symmetric\n",
      "Symmetric\n",
      "Symmetric\n",
      "Symmetric\n",
      "Symmetric\n",
      "Symmetric\n",
      "Symmetric\n",
      "Symmetric\n",
      "Symmetric\n",
      "Symmetric\n",
      "Symmetric\n",
      "Symmetric\n",
      "Symmetric\n",
      "Symmetric\n",
      "Symmetric\n",
      "Symmetric\n",
      "Symmetric\n",
      "Symmetric\n",
      "Symmetric\n",
      "Symmetric\n",
      "Symmetric\n",
      "Symmetric\n",
      "Symmetric\n",
      "Symmetric\n",
      "Symmetric\n",
      "Symmetric\n",
      "Symmetric\n",
      "Symmetric\n",
      "Symmetric\n",
      "Symmetric\n",
      "Symmetric\n",
      "Symmetric\n",
      "Symmetric\n",
      "Symmetric\n",
      "Symmetric\n",
      "Symmetric\n",
      "Symmetric\n",
      "Symmetric\n",
      "Symmetric\n",
      "Symmetric\n",
      "Symmetric\n",
      "Symmetric\n",
      "Symmetric\n",
      "Symmetric\n",
      "Symmetric\n",
      "Symmetric\n",
      "Symmetric\n",
      "Symmetric\n",
      "Symmetric\n",
      "Symmetric\n",
      "Symmetric\n",
      "Symmetric\n",
      "Symmetric\n",
      "Symmetric\n",
      "Symmetric\n",
      "Symmetric\n",
      "Symmetric\n",
      "Symmetric\n",
      "Symmetric\n",
      "Symmetric\n",
      "Symmetric\n",
      "Symmetric\n",
      "Symmetric\n",
      "Symmetric\n",
      "Symmetric\n",
      "Symmetric\n",
      "Symmetric\n",
      "Symmetric\n",
      "Symmetric\n",
      "Symmetric\n",
      "Symmetric\n",
      "Symmetric\n",
      "Symmetric\n",
      "Symmetric\n",
      "Symmetric\n",
      "Symmetric\n",
      "Symmetric\n",
      "Symmetric\n",
      "Symmetric\n",
      "Symmetric\n",
      "Symmetric\n",
      "Symmetric\n",
      "Symmetric\n",
      "Symmetric\n",
      "Symmetric\n",
      "Symmetric\n",
      "Symmetric\n",
      "Symmetric\n",
      "Symmetric\n",
      "Symmetric\n",
      "Symmetric\n",
      "Symmetric\n",
      "Symmetric\n",
      "Symmetric\n",
      "Symmetric\n",
      "Symmetric\n",
      "Symmetric\n",
      "Symmetric\n",
      "Symmetric\n",
      "Symmetric\n",
      "Symmetric\n",
      "Symmetric\n",
      "Symmetric\n",
      "Symmetric\n",
      "Symmetric\n",
      "Symmetric\n",
      "Symmetric\n",
      "Symmetric\n",
      "Symmetric\n",
      "Symmetric\n",
      "Symmetric\n",
      "Symmetric\n",
      "Symmetric\n",
      "Symmetric\n",
      "Symmetric\n",
      "Symmetric\n",
      "Symmetric\n",
      "Symmetric\n",
      "Symmetric\n",
      "Symmetric\n",
      "Symmetric\n",
      "Symmetric\n",
      "Symmetric\n",
      "Symmetric\n",
      "Symmetric\n",
      "Symmetric\n",
      "Symmetric\n",
      "Symmetric\n",
      "Symmetric\n",
      "Symmetric\n",
      "Symmetric\n",
      "Symmetric\n",
      "Symmetric\n",
      "Symmetric\n",
      "Symmetric\n",
      "Symmetric\n",
      "Symmetric\n",
      "Symmetric\n",
      "Symmetric\n",
      "Symmetric\n",
      "Symmetric\n",
      "Symmetric\n",
      "Symmetric\n",
      "Symmetric\n",
      "Symmetric\n",
      "Symmetric\n",
      "Symmetric\n",
      "Symmetric\n",
      "Symmetric\n",
      "Symmetric\n",
      "Symmetric\n",
      "Symmetric\n",
      "Symmetric\n",
      "Symmetric\n",
      "Symmetric\n",
      "Symmetric\n",
      "Symmetric\n",
      "Symmetric\n",
      "Symmetric\n",
      "Symmetric\n",
      "Symmetric\n",
      "Symmetric\n",
      "Symmetric\n",
      "Symmetric\n",
      "Symmetric\n",
      "Symmetric\n",
      "Symmetric\n",
      "Symmetric\n",
      "Symmetric\n",
      "Symmetric\n",
      "Symmetric\n",
      "Symmetric\n",
      "Symmetric\n",
      "Symmetric\n",
      "Symmetric\n",
      "Symmetric\n",
      "Symmetric\n",
      "Symmetric\n",
      "Symmetric\n",
      "Symmetric\n",
      "Symmetric\n",
      "Symmetric\n",
      "Symmetric\n",
      "Symmetric\n",
      "Symmetric\n",
      "Symmetric\n",
      "Symmetric\n",
      "Symmetric\n",
      "Symmetric\n",
      "Symmetric\n",
      "Symmetric\n",
      "Symmetric\n",
      "Symmetric\n",
      "Symmetric\n",
      "Symmetric\n",
      "Symmetric\n",
      "Symmetric\n",
      "Symmetric\n",
      "Symmetric\n",
      "Symmetric\n",
      "Symmetric\n",
      "Symmetric\n",
      "Symmetric\n",
      "Symmetric\n",
      "Symmetric\n",
      "Symmetric\n",
      "Symmetric\n",
      "Symmetric\n",
      "Symmetric\n",
      "Symmetric\n",
      "Symmetric\n",
      "Symmetric\n",
      "Symmetric\n",
      "Symmetric\n",
      "Symmetric\n",
      "Symmetric\n",
      "Symmetric\n",
      "Symmetric\n",
      "Symmetric\n",
      "Symmetric\n",
      "Symmetric\n",
      "Symmetric\n",
      "Symmetric\n",
      "Symmetric\n",
      "Symmetric\n",
      "Symmetric\n",
      "Symmetric\n",
      "Symmetric\n",
      "Symmetric\n",
      "Symmetric\n",
      "Symmetric\n",
      "Symmetric\n",
      "Symmetric\n",
      "Symmetric\n",
      "Symmetric\n"
     ]
    }
   ],
   "source": [
    "A = np.zeros((20,20))\n",
    "for i in range(20):\n",
    "    for j in range(20):\n",
    "        if i > j:\n",
    "            A[i,j] = (j+1)/(i+1)\n",
    "        else:\n",
    "            A[i,j] = (i+1)/(j+1)\n",
    "        if A.all() == A.T.all():\n",
    "            print('Symmetric')\n",
    "        else:\n",
    "            print('Asymmetric')"
   ]
  },
  {
   "cell_type": "markdown",
   "id": "fcea8ab4",
   "metadata": {},
   "source": [
    "Question 4:"
   ]
  },
  {
   "cell_type": "code",
   "execution_count": 4,
   "id": "20e554d8",
   "metadata": {},
   "outputs": [
    {
     "data": {
      "text/plain": [
       "20.1"
      ]
     },
     "execution_count": 4,
     "metadata": {},
     "output_type": "execute_result"
    }
   ],
   "source": [
    "\n",
    "C = np.linalg.inv(A)\n",
    "d = np.array([1,2,3,4,5,6,7,8,9,10,10,9,8,7,6,5,4,3,2,1])\n",
    "\n",
    "x = np.linalg.solve(A,np.matmul(C,d))\n",
    "round(x[9],1)"
   ]
  }
 ],
 "metadata": {
  "kernelspec": {
   "display_name": "Python 3",
   "language": "python",
   "name": "python3"
  },
  "language_info": {
   "codemirror_mode": {
    "name": "ipython",
    "version": 3
   },
   "file_extension": ".py",
   "mimetype": "text/x-python",
   "name": "python",
   "nbconvert_exporter": "python",
   "pygments_lexer": "ipython3",
   "version": "3.8.10"
  }
 },
 "nbformat": 4,
 "nbformat_minor": 5
}
